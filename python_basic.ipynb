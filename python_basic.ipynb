{
  "nbformat": 4,
  "nbformat_minor": 0,
  "metadata": {
    "colab": {
      "provenance": []
    },
    "kernelspec": {
      "name": "python3",
      "display_name": "Python 3"
    },
    "language_info": {
      "name": "python"
    }
  },
  "cells": [
    {
      "cell_type": "markdown",
      "source": [
        "1.What is Python, and why is it popular?\n",
        "\n",
        "= Python is a programming language that is interpreted, object-oriented, and considered to be high-level,Python is one of the easiest yet    most useful programming languages and is widely used in the software industry.\n",
        "\n",
        "-Top 4 reason python so popular;\n",
        "  1. It’s one of the best languages when learning to code.\n",
        "  2. Python is heavily used in the Internet of Things.\n",
        "  3. Python is instrumental in data science and AI.\n",
        "  4. Python is  versatile for web development.\n"
      ],
      "metadata": {
        "id": "t9Rk8Hmj5Ut-"
      }
    },
    {
      "cell_type": "markdown",
      "source": [
        "#Python basic question:\n",
        "\n",
        "#Theory question:\n"
      ],
      "metadata": {
        "id": "B_Nv5O_W2h45"
      }
    },
    {
      "cell_type": "markdown",
      "source": [
        "2.What is an interpreter in Python ?\n",
        "\n",
        "=Interpreters are the computer program that will convert the source code or an high level language into intermediate code (machine         level language). It is also called translator in programming terminology. Interpreters executes each line of statements slowly. This       process is called Interpretation. For example Python is an interpreted language, PHP, Ruby, and JavaScript.\n",
        "\n",
        "Example: Here is the simple Python program that takes two inputs as a and b and prints the sum in the third variable which is c. It follows sequential as well as functional execution of programs;\n"
      ],
      "metadata": {
        "id": "xd1UEl-G7mwM"
      }
    },
    {
      "cell_type": "code",
      "source": [
        "#example 2 question:\n",
        "a = 3\n",
        "b = 7\n",
        "c = a + b\n",
        "print(\n",
        "c) # output"
      ],
      "metadata": {
        "id": "9FoGMSlO7pBd"
      },
      "execution_count": null,
      "outputs": []
    },
    {
      "cell_type": "markdown",
      "source": [
        " 3.What are pre-defined keywords in Python?\n",
        "\n",
        "  =Python Keywords are some predefined and reserved words in Python that have special meanings. Keywords are used to define the syntax of the coding. The keyword cannot be used as an identifier, function, or variable name. All the keywords in Python are written in lowercase except True and False. There are 35 keywords in Python 3.11.\n",
        "\n",
        "  -List of some python keywords.\n",
        "   \n",
        "  and : This is a logical operator which returns true if both the operands are true else returns false.\n",
        "\n",
        "  or : This is also a logical operator which returns true if anyone operand is true else returns false.\n",
        "\n",
        "not :\tThis is again a logical operator it returns True if the operand is false else returns false.\n",
        "\n",
        "if : This is used to make a conditional statement.\n",
        "\n",
        "elif : Elif is a condition statement used with an if statement. The elif statement is executed if the previous conditions were not true.\n",
        "\n",
        "else : Else is used with if and elif conditional statements. The else block is executed if the given condition is not true.\n",
        "\n",
        "for : This is used to create a loop.\n",
        "\n",
        "\n",
        "\n",
        "\n"
      ],
      "metadata": {
        "id": "Ucfd5iIn-Mp6"
      }
    },
    {
      "cell_type": "markdown",
      "source": [
        "4.Can keywords be used as variable names?\n",
        "\n",
        "= In Python, reserved keywords are words that have special meanings and are already predefined by the Python language. These keywords cannot be used as variable names or identifiers because they are dedicated to specific purposes within the language. Using reserved keywords as variable names would lead to syntax errors or unexpected behavior."
      ],
      "metadata": {
        "id": "1758fhX_B_a5"
      }
    },
    {
      "cell_type": "markdown",
      "source": [
        "5.What is mutability in Python?\n",
        "\n",
        " =In Python, mutability refers to the capability of an object to be changed or modified after its creation.\n",
        "\n",
        " In Python, lists are a widely used data structure that allows the storage and manipulation of a collection of items. One of the key characteristics of lists is their mutability, which refers to the ability to modify the list after it has been created."
      ],
      "metadata": {
        "id": "ol9-2iSTDf0-"
      }
    },
    {
      "cell_type": "markdown",
      "source": [
        "6.Why are lists mutable, but tuples are immutable?\n",
        "\n",
        " 1.In Python, lists are a widely used data structure that allows the storage and manipulation of a collection of items. One of the key characteristics of lists is their mutability, which refers to the ability to modify the list after it has been created.\n",
        "\n",
        "2.Tuples in Python are immutable, which means once we create them, we can not change their items. In this article, we will discuss why tuples are immutable before moving on, and we will understand tuples in detail.\n"
      ],
      "metadata": {
        "id": "WByU1W-4E53L"
      }
    },
    {
      "cell_type": "markdown",
      "source": [
        "7.What is the difference between “==” and “is” operators in Python?\n",
        "\n",
        " == Operator.\n",
        "\n",
        "-To compare objects based on their values, Python's equality operators (==) are employed. It calls the left object's __eq__() class method which specifies the criteria for determining equality. However, these constraints are typically written so that the equality operator == returns True if two objects, have the same value and returns False if both have different value."
      ],
      "metadata": {
        "id": "5oXQUGRfGrQB"
      }
    },
    {
      "cell_type": "code",
      "source": [
        "#Example of == Operator.\n",
        "x = [1, 2, 3]\n",
        "y = [1, 2, 3]\n",
        "z = x\n",
        "\n",
        "# Equality comparison (==)\n",
        "if x == y:\n",
        "    print(\"True\")\n",
        "else:\n",
        "    print(\"False\")"
      ],
      "metadata": {
        "id": "KQVjrq3pIB4q"
      },
      "execution_count": null,
      "outputs": []
    },
    {
      "cell_type": "markdown",
      "source": [
        "‘is’ Operator.\n",
        "\n",
        "- Python identity operators (is, is not) are used to compare objects based on their identity. When the variables on either side of an operator point at the exact same object, the \"is\" operator's evaluation is true. Otherwise, it would provide us with a false assessment."
      ],
      "metadata": {
        "id": "irOMAxhaIRFa"
      }
    },
    {
      "cell_type": "code",
      "source": [
        "#Example of 'is' Operator.\n",
        "x = [1, 2, 3]\n",
        "y = [1, 2, 3]\n",
        "z = x\n",
        "\n",
        "\n",
        "# Case 1: Identity comparison (is)\n",
        "if x is y:\n",
        "    print(\"True\")\n",
        "else:\n",
        "    print(\"False\")\n",
        "\n",
        "# Case 2: Comparing references (is)\n",
        "if x is z:\n",
        "    print(\"True\")\n",
        "else:\n",
        "    print(\"False\")"
      ],
      "metadata": {
        "id": "LQKnpEkpLteo"
      },
      "execution_count": null,
      "outputs": []
    },
    {
      "cell_type": "markdown",
      "source": [
        "8.What are logical operators in Python?\n",
        "\n",
        " = Python logical operators are used to combine conditional statements, allowing you to perform operations based on multiple conditions. These Python operators, alongside arithmetic operators, are special symbols used to carry out computations on values and variables. In this article, we will discuss logical operators in Python definition and also look at some Python logical operators programs, to completely grasp the concept.\n",
        "\n",
        ".Logical operators like(AND,OR,NOT)."
      ],
      "metadata": {
        "id": "cClX9HUnMKDY"
      }
    },
    {
      "cell_type": "code",
      "source": [
        "\n",
        "# Example: Logical Operators (AND, OR, NOT) with generic variables\n",
        "a, b, c = True, False, True\n",
        "\n",
        "# AND: Both conditions must be True\n",
        "if a and c:\n",
        "    print(\"Both a and c are True (AND condition).\")\n",
        "\n",
        "# OR: At least one condition must be True\n",
        "if b or c:\n",
        "    print(\"Either b or c is True (OR condition).\")\n",
        "\n",
        "# NOT: Reverses the condition\n",
        "if not b:\n",
        "    print(\"b is False (NOT condition).\")"
      ],
      "metadata": {
        "id": "CVSill1aNbpp"
      },
      "execution_count": null,
      "outputs": []
    },
    {
      "cell_type": "markdown",
      "source": [
        "9.What is type casting in Python?\n",
        "\n",
        " =Type Casting is the method to convert the Python variable datatype into a certain data type in order to perform the required operation by users. In this article, we will see the various techniques for typecasting. There can be two types of Type Casting in Python:\n",
        "\n",
        ".Implicit Type Conversion in Python:\n",
        "\n",
        "-In this, method, Python converts the datatype into another datatype automatically. Users don't have to involve in this process.\n",
        "\n",
        ".Explicit Type Conversion in Python:\n",
        "\n",
        "-In this method, Python needs user involvement to convert the variable data type into the required data type.\n"
      ],
      "metadata": {
        "id": "uxx5CT8eNkDH"
      }
    },
    {
      "cell_type": "markdown",
      "source": [
        "10.What is the difference between implicit and explicit type casting?\n",
        "\n",
        ".Implicit type casting:\n",
        "\n",
        "-In implicit type casting, the programming language automatically converts data from one type to another if needed. For example, if you have an integer variable and you try to assign it to a float variable, the programming language will automatically convert the integer to a float without you having to do anything.\n",
        "\n",
        ".Explicit type casting:\n",
        "\n",
        "-Explicit type casting, also known as type conversion or type coercion, occurs when the programmer explicitly converts a value from one data type to another. Unlike implicit type casting, explicit type casting requires the programmer to specify the desired data type conversion.\n"
      ],
      "metadata": {
        "id": "AWy2YhYtP81Y"
      }
    },
    {
      "cell_type": "markdown",
      "source": [
        "11.What is the purpose of conditional statements in Python?\n",
        "\n",
        " conditional statement in python:\n",
        "\n",
        " -Conditional statements in Python are used to execute certain blocks of code based on specific conditions. These statements help control the flow of a program, making it behave differently in different situations.\n",
        "\n",
        " some statement in python are:\n",
        "  \n",
        " - if conditional statement:\n",
        "\n",
        " =If statement is the simplest form of a conditional statement. It executes a block of code if the given condition is true.\n",
        "\n",
        " -if else conditional statement:\n",
        "\n",
        " =Else allows us to specify a block of code that will execute if the condition(s) associated with an if or elif statement evaluates to False. Else block provides a way to handle all other cases that don't meet the specified conditions.\n",
        "\n",
        " -elif conditional statement:\n",
        "\n",
        " = elif statement in Python stands for \"else if.\" It allows us to check multiple conditions , providing a way to execute different blocks of code based on which condition is true. Using elif statements makes our code more readable and efficient by eliminating the need for multiple nested if statements.\n",
        "\n",
        " -nested if-else conditional statement:\n",
        "\n",
        " =Nested if..else means an if-else statement inside another if statement. We can use nested if statements to check conditions within conditions.\n",
        "\n",
        "\n",
        "\n",
        "\n",
        "  \n",
        "\n",
        "\n",
        "\n",
        "\n",
        "\n",
        "\n",
        "\n",
        "\n",
        "\n"
      ],
      "metadata": {
        "id": "4PHXfJa6Rv48"
      }
    },
    {
      "cell_type": "markdown",
      "source": [
        "12.How does the elif statement work?\n",
        "\n",
        " =elif statement in Python stands for \"else if.\" It allows us to check multiple conditions , providing a way to execute different blocks of code based on which condition is true. Using elif statements makes our code more readable and efficient by eliminating the need for multiple nested if statements."
      ],
      "metadata": {
        "id": "_edwb17oir0H"
      }
    },
    {
      "cell_type": "markdown",
      "source": [
        "13.What is the difference between for and while loops?\n",
        "\n",
        " - For loop: In Python, a 'for loop' is used to iterate over a sequence of items, such as a Python tuple, list, string, or range. The loop will execute a block of statements for each item in the sequence.\n",
        "\n",
        "- Syntax: In the below syntax for is a keyword, var is the variable name, and iterable is an object which can be looped over or iterated over with the help of a for a loop. Objects like tuples, lists, sets, dictionaries, strings, etc. are called iterable. We can also use the range() function in place of iterable.\n",
        "\n",
        "- while loop: In Python, a while loop is used to repeatedly execute a block of statements while a condition is true. The loop will continue to run as long as the condition remains true.\n",
        "\n",
        "- Syntax: In the while loop condition is written just after the 'while' keyword and then we write the set of statements to perform some task.\n",
        "\n",
        "\n",
        "\n",
        "\n",
        "\n"
      ],
      "metadata": {
        "id": "XNd4adKhlcru"
      }
    },
    {
      "cell_type": "markdown",
      "source": [
        "14.Describe a scenario where a while loop is more suitable than a for loop?\n",
        "\n",
        "- The answer is When you need to iterate until a certain condition is met, but the number of iterations is not known beforehand.\n",
        "\n",
        "- A while loop is more appropriate when you need to iterate until a certain condition is met, but the number of iterations is not known beforehand, because it continues executing as long as the specified condition remains true.\n"
      ],
      "metadata": {
        "id": "LYtOt9CAoJBA"
      }
    },
    {
      "cell_type": "code",
      "source": [
        "# Practical questions:"
      ],
      "metadata": {
        "id": "kcp2O9vIrAyH"
      },
      "execution_count": 2,
      "outputs": []
    },
    {
      "cell_type": "code",
      "source": [
        "#1.Write a Python program to print \"Hello, World!?\n",
        "print(\"hello,world!\")\n",
        "\n"
      ],
      "metadata": {
        "id": "w2SoNJFwrHWM"
      },
      "execution_count": null,
      "outputs": []
    },
    {
      "cell_type": "code",
      "source": [
        "# 2.Write a Python program that displays your name and age?\n",
        "name=input(\"enter your name:\")\n",
        "age= input(\"enter your age:\")\n",
        "print(\"your namme is:\",name,\"and your age is:\",age)\n",
        "\n",
        "\n",
        "\n"
      ],
      "metadata": {
        "id": "S5m4CuDJsimj"
      },
      "execution_count": null,
      "outputs": []
    },
    {
      "cell_type": "code",
      "source": [
        "# 3.Write code to print all the pre-defined keywords in Python using the keyword library?\n",
        "\n",
        "# importing the module\n",
        "import keyword\n",
        "\n",
        "# printing the keywords\n",
        "print(\"Python keywords are...\")\n",
        "print(keyword.kwlist)\n"
      ],
      "metadata": {
        "id": "5ItE6sehA_Ke"
      },
      "execution_count": null,
      "outputs": []
    },
    {
      "cell_type": "code",
      "source": [
        "# 4.Write a program that checks if a given word is a Python keyword?\n",
        "\n",
        "import keyword\n",
        "\n",
        "def is_keyword(word):\n",
        "    return keyword.iskeyword(word)\n",
        "\n",
        "print(is_keyword(\"for\"))\n",
        "print(is_keyword(\"football\"))\n"
      ],
      "metadata": {
        "id": "XKDkKclXC5Hx"
      },
      "execution_count": null,
      "outputs": []
    },
    {
      "cell_type": "code",
      "source": [
        "# 5.Create a list and tuple in Python, and demonstrate how attempting to change an element works differently for each other?\n",
        "#create a list.\n",
        "student=[\"ankit\",89,45.3,\"cricket\"]\n",
        "print(student)\n",
        "\n",
        "#create a tuple.\n",
        "\n",
        "student=(\"ankit\",89,45.3,\"cricket\")\n",
        "print(student)\n",
        "\n",
        "#how attempting to change an element works differently for each other.\n",
        "#list example.\n",
        "thislist = [\"apple\", \"banana\", \"cherry\"]\n",
        "thislist[1] = \"blackcurrant\"\n",
        "print(thislist)\n",
        " #tuples examle.\n",
        "myTuple=(1, 2, 3, 4)\n",
        "print(\"Original Tuple is:\", myTuple)\n",
        "value = 5\n",
        "print(\"Value to be added:\", value)\n",
        "newTuple = (5,)\n",
        "myTuple = myTuple + newTuple\n",
        "print(\"Updated tuple is:\", myTuple)"
      ],
      "metadata": {
        "id": "oL14mcWiH4pX"
      },
      "execution_count": null,
      "outputs": []
    },
    {
      "cell_type": "code",
      "source": [
        "#6. Write a function to demonstrate the behavior of mutable and immutable arguments.\n",
        "#mutable arguments.\n",
        "my_list = [1, 2, 3]\n",
        "my_list.append(4)\n",
        "print(my_list)\n",
        "\n",
        "my_list.insert(1, 5)\n",
        "print(my_list)\n",
        "\n",
        "my_list.remove(2)\n",
        "print(my_list)\n",
        "\n",
        "popped_element = my_list.pop(0)\n",
        "print(my_list)\n",
        "print(popped_element)\n",
        "# Python code to test that\n",
        "# tuples are immutable\n",
        "\n",
        "tuple1 = (0, 1, 2, 3)\n",
        "tuple1[0] = 4\n",
        "print(tuple1)\n"
      ],
      "metadata": {
        "id": "5qq8ZW4PL1o6"
      },
      "execution_count": null,
      "outputs": []
    },
    {
      "cell_type": "code",
      "source": [
        "#7.Write a program that performs basic arithmetic operations on two user-input numbers.\n",
        "num1 = float(input(\" Please Enter the First Value Number 1: \"))\n",
        "num2 = float(input(\" Please Enter the Second Value Number 2: \"))\n",
        "\n",
        "# Add Two Numbers\n",
        "add = num1 + num2\n",
        "\n",
        "# Subtracting num2 from num1\n",
        "sub = num1 - num2\n",
        "\n",
        "# Multiply num1 with num2\n",
        "multi = num1 * num2\n",
        "\n",
        "# Divide num1 by num2\n",
        "div = num1 / num2\n",
        "\n",
        "# Modulus of num1 and num2\n",
        "mod = num1 % num2\n",
        "\n",
        "# Exponent of num1 and num2\n",
        "expo = num1 ** num2\n",
        "\n",
        "print(\"The Sum of {0} and {1} = {2}\".format(num1, num2, add))\n",
        "print(\"The Subtraction of {0} from {1} = {2}\".format(num2, num1, sub))\n",
        "print(\"The Multiplication of {0} and {1} = {2}\".format(num1, num2, multi))\n",
        "print(\"The Division of {0} and {1} = {2}\".format(num1, num2, div))\n",
        "print(\"The Modulus of {0} and {1} = {2}\".format(num1, num2, mod))\n",
        "print(\"The Exponent Value of {0} and {1} = {2}\".format(num1, num2, expo))"
      ],
      "metadata": {
        "id": "htmaid_CN4Ux"
      },
      "execution_count": null,
      "outputs": []
    },
    {
      "cell_type": "code",
      "source": [
        "#8.Write a program to demonstrate the use of logical operators.\n",
        "# Logical AND operator example.\n",
        "a = 10\n",
        "b = 10\n",
        "c = -10\n",
        "if a > 0 and b > 0:\n",
        "    print(\"The numbers are greater than 0\")\n",
        "if a > 0 and b > 0 and c > 0:\n",
        "    print(\"The numbers are greater than 0\")\n",
        "else:\n",
        "    print(\"Atleast one number is not greater than 0\")\n",
        "\n",
        "#Logical OR operator example.\n",
        "a = 10\n",
        "b = -10\n",
        "c = 0\n",
        "if a > 0 or b > 0:\n",
        "    print(\"Either of the number is greater than 0\")\n",
        "else:\n",
        "    print(\"No number is greater than 0\")\n",
        "if b > 0 or c > 0:\n",
        "    print(\"Either of the number is greater than 0\")\n",
        "else:\n",
        "    print(\"No number is greater than 0\")\n",
        "\n",
        "#Logical NOT operator example.\n",
        "a = 10\n",
        "\n",
        "if not a:\n",
        "    print(\"Boolean value of a is True\")\n",
        "if not (a % 3 == 0 or a % 5 == 0):\n",
        "    print(\"10 is not divisible by either 3 or 5\")\n",
        "else:\n",
        "    print(\"10 is divisible by either 3 or 5\")\n",
        "\n"
      ],
      "metadata": {
        "id": "SVSa7-BSPJx1"
      },
      "execution_count": null,
      "outputs": []
    },
    {
      "cell_type": "code",
      "source": [
        "#10. Write code to demonstrate type casting with list elements.\n",
        "a = [1, 4, 9, 10, 19]\n",
        "b = [[5, 6, 8], [8, 5, 3], [9, 10, 3]]\n",
        "\n",
        "c = [str(x) for x in a]\n",
        "d = [[str(x) for x in sub] for sub in b]\n",
        "\n",
        "print(c)\n",
        "print(d)"
      ],
      "metadata": {
        "id": "Qija1YeRTzd6"
      },
      "execution_count": null,
      "outputs": []
    },
    {
      "cell_type": "code",
      "source": [
        "#11. Write a program that checks if a number is positive, negative, or zero.\n",
        "# Python Code to check if a number is\n",
        "# Positive, Negative, Odd, Even, Zero\n",
        "# Using if...elif...else\n",
        "num = 10\n",
        "if num > 0:\n",
        "    print(\"Positive number\")\n",
        "elif num == 0:\n",
        "    print(\"Zero\")\n",
        "else:\n",
        "    print(\"Negative number\")"
      ],
      "metadata": {
        "id": "2tx5dL3uUnGT"
      },
      "execution_count": null,
      "outputs": []
    },
    {
      "cell_type": "code",
      "source": [
        "#12. Write a for loop to print numbers from 1 to 10.\n",
        "\n",
        "for num in range(1, 11):\n",
        "    print(num)\n",
        "\n",
        "# 👇️ [1, 2, 3, 4, 5, 6, 7, 8, 9, 10]\n",
        "print(list(range(1, 11)))\n",
        "\n"
      ],
      "metadata": {
        "id": "KjRne19iVOId"
      },
      "execution_count": null,
      "outputs": []
    },
    {
      "cell_type": "code",
      "source": [
        "#13. Write a Python program to find the sum of all even numbers between 1 and 50.\n",
        "num = int(input('Enter a number: '))\n",
        "sum = 0\n",
        "i = 0\n",
        "while i <= num:\n",
        "    if i % 2 == 0:\n",
        "        print(i)\n",
        "        sum+=i\n",
        "    i+=1\n",
        "print(f\"Sum of all the even numbers is {sum}\")"
      ],
      "metadata": {
        "id": "HYZI3cRtVhy_"
      },
      "execution_count": null,
      "outputs": []
    },
    {
      "cell_type": "code",
      "source": [
        "#14. Write a program to reverse a string using a while loop.\n",
        "# Given string\n",
        "x = \"Hello World\"\n",
        "\n",
        "# Reverse string using While loop\n",
        "x_reversed = ''\n",
        "index = len(x) - 1\n",
        "\n",
        "while index >= 0:\n",
        "\tx_reversed = x_reversed + x[index]\n",
        "\tindex = index - 1\n",
        "\n",
        "# Print reversed string\n",
        "print(x_reversed)"
      ],
      "metadata": {
        "id": "kNoPcUinV4Um"
      },
      "execution_count": null,
      "outputs": []
    },
    {
      "cell_type": "code",
      "source": [],
      "metadata": {
        "id": "k00-C_mfWj8T"
      },
      "execution_count": null,
      "outputs": []
    }
  ]
}